{
 "cells": [
  {
   "cell_type": "code",
   "execution_count": 3,
   "metadata": {},
   "outputs": [],
   "source": [
    "from PIL import Image"
   ]
  },
  {
   "cell_type": "code",
   "execution_count": 4,
   "metadata": {},
   "outputs": [
    {
     "name": "stdout",
     "output_type": "stream",
     "text": [
      "Width: 1273, Height: 711\n"
     ]
    }
   ],
   "source": [
    "with Image.open('./images/oakd1.png') as img:\n",
    "    # Get the size\n",
    "    width, height = img.size\n",
    "    print(f\"Width: {width}, Height: {height}\")\n",
    "    resized_img = img.resize((854, 480))\n",
    "    resized_img.save('./images/oakd1_resized.png')\n"
   ]
  },
  {
   "cell_type": "code",
   "execution_count": 5,
   "metadata": {},
   "outputs": [
    {
     "name": "stdout",
     "output_type": "stream",
     "text": [
      "Width: 854, Height: 480\n"
     ]
    }
   ],
   "source": [
    "## image resize\n",
    "with Image.open('./images/oakd1_resized.png') as img:\n",
    "    # Get the size\n",
    "    width, height = img.size\n",
    "    print(f\"Width: {width}, Height: {height}\")\n",
    "  "
   ]
  },
  {
   "cell_type": "code",
   "execution_count": 7,
   "metadata": {},
   "outputs": [],
   "source": [
    "## crop image:\n",
    "with Image.open('./images/oakd1_resized.png') as img:\n",
    "    # Get the size\n",
    "    x1, y1, x2, y2 = 100, 300, 800, 480\n",
    "\n",
    "    # Crop the image\n",
    "    cropped_img = img.crop((x1, y1, x2, y2))\n",
    "\n",
    "    # Save or show the cropped image\n",
    "    cropped_img.save('./images/oakd1_cropped.png')\n",
    "    \n",
    "  "
   ]
  },
  {
   "cell_type": "code",
   "execution_count": 1,
   "metadata": {},
   "outputs": [
    {
     "data": {
      "text/plain": [
       "True"
      ]
     },
     "execution_count": 1,
     "metadata": {},
     "output_type": "execute_result"
    }
   ],
   "source": [
    "import torch\n",
    "torch.cuda.is_available()"
   ]
  },
  {
   "cell_type": "code",
   "execution_count": 12,
   "metadata": {},
   "outputs": [
    {
     "name": "stdout",
     "output_type": "stream",
     "text": [
      "8.4.3.1\n"
     ]
    }
   ],
   "source": [
    "import tensorrt as trt\n",
    "print(trt.__version__)\n"
   ]
  }
 ],
 "metadata": {
  "kernelspec": {
   "display_name": "Python 3",
   "language": "python",
   "name": "python3"
  },
  "language_info": {
   "codemirror_mode": {
    "name": "ipython",
    "version": 3
   },
   "file_extension": ".py",
   "mimetype": "text/x-python",
   "name": "python",
   "nbconvert_exporter": "python",
   "pygments_lexer": "ipython3",
   "version": "3.10.12"
  }
 },
 "nbformat": 4,
 "nbformat_minor": 2
}
